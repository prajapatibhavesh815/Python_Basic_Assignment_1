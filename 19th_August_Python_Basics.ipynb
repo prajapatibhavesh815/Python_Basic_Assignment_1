{
 "cells": [
  {
   "cell_type": "code",
   "execution_count": 16,
   "id": "9198acf3-ab7b-4845-b016-fe920491685a",
   "metadata": {},
   "outputs": [],
   "source": [
    "x = 10"
   ]
  },
  {
   "cell_type": "code",
   "execution_count": 17,
   "id": "efff3d5d-145b-4538-aa96-444b1c8cd23b",
   "metadata": {},
   "outputs": [],
   "source": [
    "y = 20"
   ]
  },
  {
   "cell_type": "code",
   "execution_count": 18,
   "id": "086c70f9-69cb-4843-9c49-492e20b3c730",
   "metadata": {},
   "outputs": [],
   "source": [
    "x = x*y"
   ]
  },
  {
   "cell_type": "code",
   "execution_count": 19,
   "id": "70c41cd2-554c-4101-932e-0bf86ee51c74",
   "metadata": {},
   "outputs": [
    {
     "data": {
      "text/plain": [
       "200"
      ]
     },
     "execution_count": 19,
     "metadata": {},
     "output_type": "execute_result"
    }
   ],
   "source": [
    "x"
   ]
  },
  {
   "cell_type": "code",
   "execution_count": 20,
   "id": "c867fa93-0c7c-4584-9208-d2a40e6c4ca2",
   "metadata": {},
   "outputs": [],
   "source": [
    "y = x/y"
   ]
  },
  {
   "cell_type": "code",
   "execution_count": 21,
   "id": "58e0ee76-b975-4330-9cef-d077132b26ab",
   "metadata": {},
   "outputs": [
    {
     "data": {
      "text/plain": [
       "10.0"
      ]
     },
     "execution_count": 21,
     "metadata": {},
     "output_type": "execute_result"
    }
   ],
   "source": [
    "y"
   ]
  },
  {
   "cell_type": "code",
   "execution_count": 22,
   "id": "07c4aeb6-67c5-47db-93b4-617ae8b6d4dd",
   "metadata": {},
   "outputs": [],
   "source": [
    "x = x/y"
   ]
  },
  {
   "cell_type": "code",
   "execution_count": 23,
   "id": "cee27dd2-ae10-48cc-a659-05d4dc35ed3e",
   "metadata": {},
   "outputs": [
    {
     "data": {
      "text/plain": [
       "20.0"
      ]
     },
     "execution_count": 23,
     "metadata": {},
     "output_type": "execute_result"
    }
   ],
   "source": [
    "x"
   ]
  },
  {
   "cell_type": "code",
   "execution_count": 24,
   "id": "25b2c871-971b-47f4-baff-62861d631824",
   "metadata": {},
   "outputs": [
    {
     "name": "stdin",
     "output_type": "stream",
     "text": [
      " 124654\n"
     ]
    }
   ],
   "source": [
    "length = int(input()) # Taking length from user"
   ]
  },
  {
   "cell_type": "code",
   "execution_count": 25,
   "id": "0407c99c-7149-4d90-a642-33a807379d03",
   "metadata": {},
   "outputs": [
    {
     "name": "stdin",
     "output_type": "stream",
     "text": [
      " 65646\n"
     ]
    }
   ],
   "source": [
    "width = int(input()) #Takking widht from uset"
   ]
  },
  {
   "cell_type": "code",
   "execution_count": 26,
   "id": "c3c1a492-7ed2-4c12-995a-d539914c23f8",
   "metadata": {},
   "outputs": [],
   "source": [
    "area = length * width # Area calculation from length and width"
   ]
  },
  {
   "cell_type": "code",
   "execution_count": 27,
   "id": "d83456f3-3821-4c86-b759-f05879556e83",
   "metadata": {},
   "outputs": [
    {
     "data": {
      "text/plain": [
       "8183036484"
      ]
     },
     "execution_count": 27,
     "metadata": {},
     "output_type": "execute_result"
    }
   ],
   "source": [
    "area # Area printing"
   ]
  },
  {
   "cell_type": "code",
   "execution_count": 28,
   "id": "125e847f-fd3a-4597-9a1e-8028d78abf84",
   "metadata": {
    "tags": []
   },
   "outputs": [
    {
     "name": "stdin",
     "output_type": "stream",
     "text": [
      " 90\n"
     ]
    }
   ],
   "source": [
    "c = float(input())"
   ]
  },
  {
   "cell_type": "code",
   "execution_count": 29,
   "id": "d6cc3cb8-4b66-416f-b58a-d76fcdd0f263",
   "metadata": {
    "tags": []
   },
   "outputs": [],
   "source": [
    "f = c*(9/5) + 32"
   ]
  },
  {
   "cell_type": "code",
   "execution_count": 30,
   "id": "d6fcc6cb-bbe6-4d3d-8769-88a97913501e",
   "metadata": {
    "tags": []
   },
   "outputs": [
    {
     "data": {
      "text/plain": [
       "194.0"
      ]
     },
     "execution_count": 30,
     "metadata": {},
     "output_type": "execute_result"
    }
   ],
   "source": [
    "f"
   ]
  },
  {
   "cell_type": "code",
   "execution_count": 31,
   "id": "013c0654-3f89-4f08-888d-723dfb30a902",
   "metadata": {},
   "outputs": [
    {
     "name": "stdin",
     "output_type": "stream",
     "text": [
      " bucket\n"
     ]
    }
   ],
   "source": [
    "s1 = str(input())"
   ]
  },
  {
   "cell_type": "code",
   "execution_count": 32,
   "id": "f8403e34-34d0-4d21-b4fb-3e7bcb30bc0c",
   "metadata": {
    "tags": []
   },
   "outputs": [],
   "source": [
    "length = int(len(s1))"
   ]
  },
  {
   "cell_type": "code",
   "execution_count": 33,
   "id": "925ba274-ab2f-460f-83e1-5d5a83b32d67",
   "metadata": {
    "tags": []
   },
   "outputs": [
    {
     "data": {
      "text/plain": [
       "6"
      ]
     },
     "execution_count": 33,
     "metadata": {},
     "output_type": "execute_result"
    }
   ],
   "source": [
    "length"
   ]
  },
  {
   "cell_type": "code",
   "execution_count": 34,
   "id": "19f68a29-65d7-4cf1-b2fa-b923b168cf4e",
   "metadata": {},
   "outputs": [
    {
     "name": "stdin",
     "output_type": "stream",
     "text": [
      "Enter a sentence:  pashv\n"
     ]
    }
   ],
   "source": [
    "sentence = input(\"Enter a sentence: \")"
   ]
  },
  {
   "cell_type": "code",
   "execution_count": 35,
   "id": "d1522eb9-abfe-403a-bfbe-17742c0c76b8",
   "metadata": {},
   "outputs": [],
   "source": [
    "vowel_count =0"
   ]
  },
  {
   "cell_type": "code",
   "execution_count": 36,
   "id": "f6b5516a-6f0e-462d-83b9-02a48b144ae1",
   "metadata": {},
   "outputs": [],
   "source": [
    "for char in sentence:\n",
    "    char_lower = char.lower()\n",
    "    if char_lower in \"aeiou\":\n",
    "        vowel_count += 1"
   ]
  },
  {
   "cell_type": "code",
   "execution_count": 37,
   "id": "c219633c-6d2c-4f8a-b6d9-6f93ca06b9d0",
   "metadata": {},
   "outputs": [
    {
     "name": "stdout",
     "output_type": "stream",
     "text": [
      "Number of vowels: 1\n"
     ]
    }
   ],
   "source": [
    "print(\"Number of vowels:\", vowel_count)"
   ]
  },
  {
   "cell_type": "code",
   "execution_count": 38,
   "id": "5b424e49-d49d-426b-9529-562b724d2a3e",
   "metadata": {},
   "outputs": [
    {
     "name": "stdin",
     "output_type": "stream",
     "text": [
      "Enter a string:  vismaya\n"
     ]
    }
   ],
   "source": [
    "input_string = input(\"Enter a string: \")"
   ]
  },
  {
   "cell_type": "code",
   "execution_count": 39,
   "id": "13ad931c-f33f-4d9c-ac61-82c6c871b698",
   "metadata": {},
   "outputs": [],
   "source": [
    "reversed_string = input_string[::-1]"
   ]
  },
  {
   "cell_type": "code",
   "execution_count": 40,
   "id": "133e4faa-f4a4-443f-a768-44e592d7a692",
   "metadata": {},
   "outputs": [
    {
     "name": "stdout",
     "output_type": "stream",
     "text": [
      "Reversed string: ayamsiv\n"
     ]
    }
   ],
   "source": [
    "print(\"Reversed string:\", reversed_string)"
   ]
  },
  {
   "cell_type": "code",
   "execution_count": 41,
   "id": "8579f84f-fd37-4df3-90ce-826a00d30f92",
   "metadata": {},
   "outputs": [
    {
     "name": "stdin",
     "output_type": "stream",
     "text": [
      "Enter a string:  mukesh\n"
     ]
    }
   ],
   "source": [
    "input_string = input(\"Enter a string: \")"
   ]
  },
  {
   "cell_type": "code",
   "execution_count": 42,
   "id": "acc68088-098d-4e69-8e67-f38c562f138a",
   "metadata": {},
   "outputs": [],
   "source": [
    "cleaned_string = input_string.replace(\" \", \"\").lower()"
   ]
  },
  {
   "cell_type": "code",
   "execution_count": 43,
   "id": "0ed630c3-3827-4af8-bfad-e3e5ba097aa6",
   "metadata": {},
   "outputs": [],
   "source": [
    "reversed_string = cleaned_string[::-1]"
   ]
  },
  {
   "cell_type": "code",
   "execution_count": 44,
   "id": "4e8b6803-8c3d-4608-81a7-fc21129a17f0",
   "metadata": {},
   "outputs": [],
   "source": [
    "if cleaned_string == reversed_string:print(\"The input string is a palindrome.\")"
   ]
  },
  {
   "cell_type": "code",
   "execution_count": 45,
   "id": "699ed6b5-be0a-4233-a8d0-9c763235494a",
   "metadata": {},
   "outputs": [
    {
     "name": "stdout",
     "output_type": "stream",
     "text": [
      "The input string is not a palindrome.\n"
     ]
    }
   ],
   "source": [
    "print(\"The input string is not a palindrome.\")"
   ]
  },
  {
   "cell_type": "code",
   "execution_count": null,
   "id": "e99dc92d-63fa-4925-b080-986f4deeb2d1",
   "metadata": {
    "tags": []
   },
   "outputs": [],
   "source": [
    "input_string_1 = input(\"Enter a string: \")"
   ]
  },
  {
   "cell_type": "code",
   "execution_count": null,
   "id": "5fef0d32-e3e4-4885-afa1-f0f67cdf0654",
   "metadata": {
    "tags": []
   },
   "outputs": [],
   "source": [
    "print(\"The input string is: \", input_string_1)"
   ]
  },
  {
   "cell_type": "code",
   "execution_count": null,
   "id": "77076797-c5d5-4fa5-bd5c-36462cf66d5e",
   "metadata": {
    "tags": []
   },
   "outputs": [],
   "source": [
    "modified_string = \"\""
   ]
  },
  {
   "cell_type": "code",
   "execution_count": null,
   "id": "86914c36-8d8b-4496-9454-98fffea4feb9",
   "metadata": {
    "tags": []
   },
   "outputs": [],
   "source": [
    "for char_1 in input_string_1:\n",
    "    if char_1 != \" \":\n",
    "        modified_string += char_1"
   ]
  },
  {
   "cell_type": "code",
   "execution_count": null,
   "id": "a2ce853c-fd52-4421-aaff-e877bd2c131f",
   "metadata": {
    "tags": []
   },
   "outputs": [],
   "source": [
    "print(\"Modified string without spaces:\", modified_string)"
   ]
  },
  {
   "cell_type": "code",
   "execution_count": null,
   "id": "5b57bebb-1ffd-4a49-9751-e38f2b77a118",
   "metadata": {},
   "outputs": [],
   "source": []
  },
  {
   "cell_type": "code",
   "execution_count": null,
   "id": "3c7b249d-4c6f-407b-acf8-7232d276961b",
   "metadata": {},
   "outputs": [],
   "source": []
  }
 ],
 "metadata": {
  "kernelspec": {
   "display_name": "Python 3 (ipykernel)",
   "language": "python",
   "name": "python3"
  },
  "language_info": {
   "codemirror_mode": {
    "name": "ipython",
    "version": 3
   },
   "file_extension": ".py",
   "mimetype": "text/x-python",
   "name": "python",
   "nbconvert_exporter": "python",
   "pygments_lexer": "ipython3",
   "version": "3.10.8"
  }
 },
 "nbformat": 4,
 "nbformat_minor": 5
}
